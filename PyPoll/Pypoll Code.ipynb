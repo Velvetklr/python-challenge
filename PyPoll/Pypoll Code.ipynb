{
 "cells": [
  {
   "cell_type": "markdown",
   "id": "d1de7174",
   "metadata": {},
   "source": [
    "Create a Python script that analyzes the votes and calculates each of the following values:\n",
    "\n",
    "The total number of votes cast\n",
    "\n",
    "A complete list of candidates who received votes\n",
    "\n",
    "The percentage of votes each candidate won\n",
    "\n",
    "The total number of votes each candidate won\n",
    "\n",
    "The winner of the election based on popular vote"
   ]
  },
  {
   "cell_type": "code",
   "execution_count": null,
   "id": "36aa73cf",
   "metadata": {},
   "outputs": [],
   "source": [
    "#INPUT\n",
    "import os\n",
    "import csv\n",
    "import collections as cnt \n",
    "\n",
    "csvpath = os.path.join('.','Resources','election_data.csv')\n",
    "\n",
    "#variables\n",
    "vote_total = 0\n",
    "votes =cnt.Counter()\n",
    "voter_count = []\n",
    "nl ='\\n'\n",
    "with open (csvpath) as election_file:\n",
    "    reader = csv.reader(election_file, delimiter = ',')\n",
    "    csv_header=next(reader)\n",
    "\n",
    "    #Calculate\n",
    "    for row in reader: \n",
    "        vote_total +=1\n",
    "        \n",
    "        #using collections module to count the canidates\n",
    "        canidate = row[2]\n",
    "        votes[canidate] += 1\n",
    "        \n",
    "    for i in votes:\n",
    "        percent = round((votes[i]/vote_total) *100,3)\n",
    "        voter_count.append (f\"{i}: {percent}% ({votes[i]})\")\n",
    "\n",
    "#output  \n",
    "output = (\n",
    "f\"Election Results\\n\"\n",
    "f\"--------------------\\n\"\n",
    "f\" \\n\"\n",
    "f\"Total Votes: {vote_total}\\n\"\n",
    "f\" \\n\"\n",
    "f\"--------------------\\n\"\n",
    "f\"{nl.join(voter_count)}\"\n",
    "f\" \\n\"\n",
    "f\"--------------------\\n\"\n",
    "f\" \\n\"\n",
    "f\"Winner: {votes.most_common()[0][0]}\\n\"\n",
    ")\n",
    "print(output)\n",
    "\n",
    "#write txt file \n",
    "output_path = os.path.join(\".\",\"Analysis\",\"PollAnalysis.txt\")\n",
    "with open (output_path, 'w') as txtfile:\n",
    "    txtfile.writelines({output})\n"
   ]
  }
 ],
 "metadata": {
  "kernelspec": {
   "display_name": "Python 3 (ipykernel)",
   "language": "python",
   "name": "python3"
  },
  "language_info": {
   "codemirror_mode": {
    "name": "ipython",
    "version": 3
   },
   "file_extension": ".py",
   "mimetype": "text/x-python",
   "name": "python",
   "nbconvert_exporter": "python",
   "pygments_lexer": "ipython3",
   "version": "3.11.4"
  }
 },
 "nbformat": 4,
 "nbformat_minor": 5
}
