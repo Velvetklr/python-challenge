{
 "cells": [
  {
   "cell_type": "markdown",
   "id": "57cc8ce2",
   "metadata": {},
   "source": [
    "Analyze Finance Records\n",
    "Calculate Total Number of Months\n",
    "Calculate Total Profit/Loss over entire time\n",
    "Calculate Changes in Profit over time\n",
    "Greatest Increase (date & amount)\n",
    "Greatest Decrease (Date & amount)"
   ]
  },
  {
   "cell_type": "code",
   "execution_count": null,
   "id": "63512df7",
   "metadata": {
    "scrolled": true
   },
   "outputs": [],
   "source": [
    "#INPUT\n",
    "import os\n",
    "import csv\n",
    "from statistics import mean \n",
    "\n",
    "#os.chdir(os.path.dirname(os.path.realpath(__file__)))\n",
    "csvpath = os.path.join('.','Resources','budget_data.csv')\n",
    "\n",
    "all_months = 0\n",
    "total_profit = 0\n",
    "total_change = 0\n",
    "change_list = []\n",
    "change_month = []\n",
    "previous_row = 0\n",
    "greatest_increase = 0\n",
    "with open (csvpath) as budget_file:\n",
    "    csvreader = csv.reader(budget_file, delimiter = ',')\n",
    "    csv_header=next(csvreader)\n",
    "       \n",
    "    for row in csvreader: \n",
    "        #CALCULATE\n",
    "        all_months +=1\n",
    "        total_profit += int(row[1])\n",
    "        \n",
    "        profit = int(row[1])\n",
    "        \n",
    "        #Getting Change over time\n",
    "        change_list.append(profit - previous_row)\n",
    "        change_month.append([row[0],profit - previous_row])\n",
    "        previous_row = profit\n",
    "        change = change_list[1:]\n",
    "\n",
    "            \n",
    "change_avg = round(mean(change),2)\n",
    "greatest_increase = max(change)\n",
    "greatest_decrease = min(change)  \n",
    "great = [greatest for greatest in change_month if greatest_increase in greatest]\n",
    "least = [decrease for decrease in change_month if greatest_decrease in decrease]\n",
    "\n",
    "#OUTPUT\n",
    "print(\"Financial Analysis\")\n",
    "print(\"----------------------------\")\n",
    "print(f\"Total_Months: {all_months}\")\n",
    "print()\n",
    "print(f\"Total: ${total_profit}\")\n",
    "print()\n",
    "print(f\"Average Change ${change_avg}\")\n",
    "print()\n",
    "print(f\"The Greatest Increase in Profits {great}\")\n",
    "print()\n",
    "print(f\"The Greatest Decrease in Profits {least}\")\n",
    "\n",
    "\n",
    "output_path = os.path.join(\".\",\"Analysis\",\"BudgetAnalysis.txt\")\n",
    "#print(output_path)\n",
    "with open(output_path,'w')as txtfile:\n",
    "    txtfile.writelines (\"Financial Analysis\\n\")\n",
    "    txtfile.writelines (\"----------------------------\\n\")\n",
    "    txtfile.writelines (f\"Total_Months: {all_months}\\n\")\n",
    "    txtfile.writelines (\" \\n\")\n",
    "    txtfile.writelines (f\"Total: ${total_profit}\\n\")\n",
    "    txtfile.writelines (\"\\n\")\n",
    "    txtfile.writelines (f\"Average Change ${change_avg}\\n\")\n",
    "    txtfile.writelines (\" \\n\")\n",
    "    txtfile.writelines (f\"The Greatest Increase in Profits {great}\\n\")\n",
    "    txtfile.writelines (\" \\n\")\n",
    "    txtfile.writelines (f\"The Greatest Decrease in Profits {least}\\n\")"
   ]
  }
 ],
 "metadata": {
  "kernelspec": {
   "display_name": "Python 3 (ipykernel)",
   "language": "python",
   "name": "python3"
  },
  "language_info": {
   "codemirror_mode": {
    "name": "ipython",
    "version": 3
   },
   "file_extension": ".py",
   "mimetype": "text/x-python",
   "name": "python",
   "nbconvert_exporter": "python",
   "pygments_lexer": "ipython3",
   "version": "3.11.4"
  }
 },
 "nbformat": 4,
 "nbformat_minor": 5
}
